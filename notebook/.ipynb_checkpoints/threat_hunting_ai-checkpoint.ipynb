{
 "cells": [
  {
   "cell_type": "code",
   "execution_count": null,
   "id": "19460517-089c-453d-8caf-e70f7b780aa1",
   "metadata": {},
   "outputs": [
    {
     "name": "stdout",
     "output_type": "stream",
     "text": [
      "Error embedding text: suspicious admin login from unknown location using ssh\n",
      "\n",
      "\n",
      "You tried to access openai.Embedding, but this is no longer supported in openai>=1.0.0 - see the README at https://github.com/openai/openai-python for the API.\n",
      "\n",
      "You can run `openai migrate` to automatically upgrade your codebase to use the 1.0.0 interface. \n",
      "\n",
      "Alternatively, you can pin your installation to the old version, e.g. `pip install openai==0.28`\n",
      "\n",
      "A detailed migration guide is available here: https://github.com/openai/openai-python/discussions/742\n",
      "\n"
     ]
    },
    {
     "data": {
      "image/png": "[encoded data removed]",
      "text/plain": [
       "<Figure size 640x480 with 1 Axes>"
      ]
     },
     "metadata": {},
     "output_type": "display_data"
    },
    {
     "name": "stdout",
     "output_type": "stream",
     "text": [
      "Scored logs saved to logs/scored_logs.csv\n"
     ]
    }
   ],
   "source": [
    "# threat_hunting_ai.ipynb (Jupyter Notebook as Python Script)\n",
    "\n",
    "# ✅ Step 1: Load libraries and API key\n",
    "import pandas as pd\n",
    "import numpy as np\n",
    "import openai\n",
    "from dotenv import load_dotenv\n",
    "from sklearn.metrics.pairwise import cosine_similarity\n",
    "import seaborn as sns\n",
    "import matplotlib.pyplot as plt\n",
    "import os\n",
    "\n",
    "load_dotenv()\n",
    "openai.api_key = os.getenv(\"OPENAI_API_KEY\")\n",
    "\n",
    "# ✅ Step 2: Load log data\n",
    "log_file = \"../logs/sample_logs.csv\"\n",
    "df = pd.read_csv(log_file)\n",
    "df['message'] = df['message'].astype(str)\n",
    "texts = df['message'].tolist()\n",
    "\n",
    "# ✅ Step 3: Embedding function\n",
    "def get_embedding(text):\n",
    "    try:\n",
    "        response = openai.Embedding.create(\n",
    "            input=text,\n",
    "            model=\"text-embedding-3-small\"\n",
    "        )\n",
    "        return response['data'][0]['embedding']\n",
    "    except Exception as e:\n",
    "        print(f\"Error embedding text: {text}\\n{e}\")\n",
    "        return [0]*1536  # fallback vector\n",
    "\n",
    "# ✅ Step 4: Generate or load embeddings\n",
    "embedding_path = \"../embeddings/embedded_logs.npy\"\n",
    "\n",
    "if os.path.exists(embedding_path):\n",
    "    embeddings = np.load(embedding_path)\n",
    "else:\n",
    "    embeddings = [get_embedding(msg) for msg in texts]\n",
    "    np.save(embedding_path, embeddings)\n",
    "\n",
    "# ✅ Step 5: Define known threat scenario\n",
    "known_threat = \"suspicious admin login from unknown location using ssh\"\n",
    "threat_vector = get_embedding(known_threat)\n",
    "\n",
    "# ✅ Step 6: Calculate similarity\n",
    "similarities = cosine_similarity([threat_vector], embeddings)[0]\n",
    "df['threat_score'] = similarities\n",
    "\n",
    "# ✅ Step 7: Sort and display top matches\n",
    "df_sorted = df.sort_values(by='threat_score', ascending=False)\n",
    "df_sorted[['timestamp', 'username', 'message', 'threat_score']].head(10)\n",
    "\n",
    "# ✅ Step 8: Plot threat score distribution\n",
    "sns.histplot(df['threat_score'], bins=50)\n",
    "plt.title(\"Distribution of Threat Similarity Scores\")\n",
    "plt.xlabel(\"Threat Score\")\n",
    "plt.ylabel(\"Log Count\")\n",
    "plt.show()\n",
    "\n",
    "# ✅ Step 9: Save scored logs\n",
    "df_sorted.to_csv(\"../logs/scored_logs.csv\", index=False)\n",
    "print(\"Scored logs saved to logs/scored_logs.csv\")\n"
   ]
  }
 ],
 "metadata": {
  "kernelspec": {
   "display_name": "Python 3 (ipykernel)",
   "language": "python",
   "name": "python3"
  },
  "language_info": {
   "codemirror_mode": {
    "name": "ipython",
    "version": 3
   },
   "file_extension": ".py",
   "mimetype": "text/x-python",
   "name": "python",
   "nbconvert_exporter": "python",
   "pygments_lexer": "ipython3",
   "version": "3.13.5"
  }
 },
 "nbformat": 4,
 "nbformat_minor": 5
}
